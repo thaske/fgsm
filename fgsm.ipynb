{
 "cells": [
  {
   "cell_type": "code",
   "execution_count": 3,
   "id": "e697d76d",
   "metadata": {},
   "outputs": [],
   "source": [
    "import torch\n",
    "from torchvision import datasets\n",
    "from torchvision.transforms import ToTensor\n",
    "import torch.nn as nn\n",
    "import torch.nn.functional as F\n",
    "import torch.optim as optim"
   ]
  },
  {
   "cell_type": "code",
   "execution_count": 33,
   "id": "24545b9f",
   "metadata": {},
   "outputs": [],
   "source": [
    "import matplotlib.pyplot as plt\n",
    "\n",
    "\n",
    "def show(tensor: torch.Tensor):\n",
    "    tensor = tensor.detach().squeeze().cpu()\n",
    "    plt.figure(figsize=(1, 1))\n",
    "    plt.imshow(tensor, cmap=\"gray\")\n",
    "    plt.axis(\"off\")\n",
    "    plt.show()"
   ]
  },
  {
   "cell_type": "code",
   "execution_count": 4,
   "id": "7df56009",
   "metadata": {},
   "outputs": [
    {
     "data": {
      "text/plain": [
       "device(type='mps')"
      ]
     },
     "execution_count": 4,
     "metadata": {},
     "output_type": "execute_result"
    }
   ],
   "source": [
    "device = torch.device(\"cpu\")\n",
    "\n",
    "if torch.accelerator.is_available():\n",
    "    device = torch.accelerator.current_accelerator()\n",
    "\n",
    "device"
   ]
  },
  {
   "cell_type": "code",
   "execution_count": 5,
   "id": "e59faaec",
   "metadata": {},
   "outputs": [],
   "source": [
    "training_data = datasets.MNIST(\"data\", train=True, download=True, transform=ToTensor())\n",
    "test_data = datasets.MNIST(\"data\", train=False, download=True, transform=ToTensor())"
   ]
  },
  {
   "cell_type": "code",
   "execution_count": 6,
   "id": "305de8b4",
   "metadata": {},
   "outputs": [
    {
     "data": {
      "text/plain": [
       "torch.Size([1, 28, 28])"
      ]
     },
     "execution_count": 6,
     "metadata": {},
     "output_type": "execute_result"
    }
   ],
   "source": [
    "training_data[0][0].shape"
   ]
  },
  {
   "cell_type": "code",
   "execution_count": 7,
   "id": "e4b72b3b",
   "metadata": {},
   "outputs": [],
   "source": [
    "class Net(nn.Module):\n",
    "    def __init__(self):\n",
    "        super(Net, self).__init__()\n",
    "        self.fc1 = nn.Linear(28 * 28, 64)\n",
    "        self.fc2 = nn.Linear(64, 10)\n",
    "\n",
    "    def forward(self, x):\n",
    "        x = F.relu(self.fc1(x))\n",
    "        x = self.fc2(x)\n",
    "        return x"
   ]
  },
  {
   "cell_type": "code",
   "execution_count": 12,
   "id": "0d4c40bb",
   "metadata": {},
   "outputs": [
    {
     "data": {
      "text/plain": [
       "Net(\n",
       "  (fc1): Linear(in_features=784, out_features=64, bias=True)\n",
       "  (fc2): Linear(in_features=64, out_features=10, bias=True)\n",
       ")"
      ]
     },
     "execution_count": 12,
     "metadata": {},
     "output_type": "execute_result"
    }
   ],
   "source": [
    "net = Net()\n",
    "net.to(device)"
   ]
  },
  {
   "cell_type": "code",
   "execution_count": 9,
   "id": "896fc02c",
   "metadata": {},
   "outputs": [],
   "source": [
    "criterion = nn.CrossEntropyLoss()\n",
    "optimizer = optim.Adam(net.parameters(), lr=0.001)"
   ]
  },
  {
   "cell_type": "code",
   "execution_count": 10,
   "id": "4e18d8ee",
   "metadata": {},
   "outputs": [],
   "source": [
    "from torch.utils.data import DataLoader"
   ]
  },
  {
   "cell_type": "code",
   "execution_count": 13,
   "id": "160e1300",
   "metadata": {},
   "outputs": [
    {
     "name": "stdout",
     "output_type": "stream",
     "text": [
      "Predicted: 9, Actual: 2\n"
     ]
    }
   ],
   "source": [
    "train_loader = DataLoader(training_data, batch_size=64, shuffle=True)\n",
    "out, target = next(iter(train_loader))\n",
    "out = out.to(device)\n",
    "target = target.to(device)\n",
    "predicted = net(out[0][0].flatten()).argmax()\n",
    "actual = target[0]\n",
    "print(f\"Predicted: {predicted}, Actual: {actual}\")"
   ]
  },
  {
   "cell_type": "code",
   "execution_count": 54,
   "id": "65697933",
   "metadata": {},
   "outputs": [],
   "source": [
    "from torch.utils.data import DataLoader\n",
    "from IPython.display import display, clear_output\n",
    "\n",
    "\n",
    "class Trainer:\n",
    "    def __init__(self, model, loss_fn, optim_fn, training_data, test_data):\n",
    "        self.model = model.to(device)\n",
    "        self.loss_fn = loss_fn()\n",
    "        self.optim = optim_fn(self.model.parameters(), lr=0.001)\n",
    "        self.training_data = training_data\n",
    "        self.test_data = test_data\n",
    "\n",
    "    def train(self):\n",
    "        train_loader = DataLoader(self.training_data, batch_size=64, shuffle=True)\n",
    "\n",
    "        for data, targets in train_loader:\n",
    "            self.optim.zero_grad()\n",
    "\n",
    "            data = data.squeeze(1).flatten(1, 2)\n",
    "            data = data.to(device)\n",
    "            output = self.model(data)\n",
    "            targets = targets.to(device)\n",
    "\n",
    "            loss = self.loss_fn(output, targets)\n",
    "            loss.backward()\n",
    "\n",
    "            self.optim.step()\n",
    "\n",
    "            correct = torch.sum(output.argmax(1) == targets).item()\n",
    "            total = output.size(0)\n",
    "\n",
    "            # clear_output(wait=True)\n",
    "            # display(f\"Training accuracy: {round((correct / total) * 100, 2)}\")\n",
    "            # display(f\"Training loss: {loss.item()}\")\n",
    "\n",
    "    def validate(self):\n",
    "        test_loader = DataLoader(self.test_data, batch_size=64, shuffle=True)\n",
    "\n",
    "        correct = 0\n",
    "        total = 0\n",
    "\n",
    "        for data, targets in test_loader:\n",
    "            data = data.squeeze(1).flatten(1, 2)\n",
    "            data = data.to(device)\n",
    "\n",
    "            output = self.model(data)\n",
    "            targets = targets.to(device)\n",
    "\n",
    "            correct += torch.sum(output.argmax(1) == targets).item()\n",
    "            total += output.size(0)\n",
    "\n",
    "        accuracy = round((correct / total) * 100, 2)\n",
    "        return accuracy\n",
    "        # print(f\"Validation accuracy: {round((correct / total) * 100, 2)}\\n\")"
   ]
  },
  {
   "cell_type": "code",
   "execution_count": 58,
   "id": "98e3b2dd",
   "metadata": {},
   "outputs": [
    {
     "name": "stderr",
     "output_type": "stream",
     "text": [
      "Validation accuracy: 97.5500<?, ?it/s]\n",
      "Validation accuracy: 97.550:02<?, ?it/s]\n",
      "Validation accuracy: 97.410:02<00:25,  2.88s/it]\n",
      "Validation accuracy: 97.410:05<00:25,  2.88s/it]\n",
      "Validation accuracy: 97.390:05<00:22,  2.86s/it]\n",
      "Validation accuracy: 97.390:08<00:22,  2.86s/it]\n",
      "Validation accuracy: 97.380:08<00:20,  2.86s/it]\n",
      "Validation accuracy: 97.380:11<00:20,  2.86s/it]\n",
      "Validation accuracy: 97.440:11<00:17,  2.89s/it]\n",
      "Validation accuracy: 97.440:14<00:17,  2.89s/it]\n",
      "Validation accuracy: 97.450:14<00:14,  2.89s/it]\n",
      "Validation accuracy: 97.450:17<00:14,  2.89s/it]\n",
      "Validation accuracy: 97.580:17<00:11,  2.93s/it]\n",
      "Validation accuracy: 97.580:20<00:11,  2.93s/it]\n",
      "Validation accuracy: 97.360:20<00:08,  2.96s/it]\n",
      "Validation accuracy: 97.360:23<00:08,  2.96s/it]\n",
      "Validation accuracy: 97.300:23<00:05,  2.96s/it]\n",
      "Validation accuracy: 97.300:26<00:05,  2.96s/it] \n",
      "Validation accuracy: 97.610:26<00:02,  2.92s/it]\n",
      "Validation accuracy: 97.610:29<00:02,  2.92s/it]\n",
      "Validation accuracy: 97.6100:29<00:00,  2.90s/it]\n",
      ": 100%|██████████| 10/10 [00:29<00:00,  2.91s/it]\n"
     ]
    }
   ],
   "source": [
    "from tqdm import tqdm\n",
    "\n",
    "trainer = Trainer(net, nn.CrossEntropyLoss, optim.Adam, training_data, test_data)\n",
    "\n",
    "epochs = 10\n",
    "pbar = tqdm(range(epochs))\n",
    "for i in pbar:\n",
    "    trainer.train()\n",
    "    accuracy = trainer.validate()\n",
    "    pbar.set_description(f\"Validation accuracy: {accuracy}\\n\")"
   ]
  },
  {
   "cell_type": "code",
   "execution_count": 59,
   "id": "5c86d39f",
   "metadata": {},
   "outputs": [],
   "source": [
    "torch.save(net.state_dict(), \"model.pt\")"
   ]
  },
  {
   "cell_type": "code",
   "execution_count": 60,
   "id": "efbd25c5",
   "metadata": {},
   "outputs": [
    {
     "data": {
      "text/plain": [
       "Net(\n",
       "  (fc1): Linear(in_features=784, out_features=64, bias=True)\n",
       "  (fc2): Linear(in_features=64, out_features=10, bias=True)\n",
       ")"
      ]
     },
     "execution_count": 60,
     "metadata": {},
     "output_type": "execute_result"
    }
   ],
   "source": [
    "model = Net()\n",
    "model = model.to(device)\n",
    "model.load_state_dict(torch.load(\"model.pt\", weights_only=True, map_location=device))\n",
    "model.eval()"
   ]
  },
  {
   "cell_type": "code",
   "execution_count": 86,
   "id": "583bc1a4",
   "metadata": {},
   "outputs": [],
   "source": [
    "train_loader = DataLoader(training_data, batch_size=64, shuffle=True)\n",
    "inputs, targets = next(iter(train_loader))\n",
    "\n",
    "input = inputs[0].squeeze(1).flatten(1, 2)\n",
    "input = input.to(device)\n",
    "input.requires_grad_()\n",
    "\n",
    "target = targets[0]\n",
    "target = target.to(device)\n",
    "\n",
    "pred = model(input).squeeze()\n",
    "\n",
    "loss = F.cross_entropy(pred, target)\n",
    "loss.backward()\n",
    "\n",
    "epsilon = 0.04\n",
    "perturbed = input + epsilon * input.grad.sign()\n",
    "\n",
    "perturbed = perturbed.unflatten(1, (28, 28))\n",
    "input = input.unflatten(1, (28, 28))"
   ]
  },
  {
   "cell_type": "code",
   "execution_count": 87,
   "id": "9dedaa12",
   "metadata": {},
   "outputs": [
    {
     "data": {
      "image/png": "[encoded data removed]",
      "text/plain": [
       "<Figure size 100x100 with 1 Axes>"
      ]
     },
     "metadata": {},
     "output_type": "display_data"
    },
    {
     "name": "stdout",
     "output_type": "stream",
     "text": [
      "Prediction: 1\n",
      "Actual: 1\n",
      "\n",
      "Correct? True\n"
     ]
    },
    {
     "data": {
      "image/png": "[encoded data removed]",
      "text/plain": [
       "<Figure size 100x100 with 1 Axes>"
      ]
     },
     "metadata": {},
     "output_type": "display_data"
    },
    {
     "name": "stdout",
     "output_type": "stream",
     "text": [
      "Perturbed: 7\n",
      "Actual: 1\n",
      "\n",
      "Correct? False\n"
     ]
    }
   ],
   "source": [
    "pred = pred.argmax().item()\n",
    "pred_correct = target == pred\n",
    "\n",
    "perturbed_pred = model(perturbed.squeeze().flatten()).argmax().item()\n",
    "perturbed_correct = target == perturbed_pred\n",
    "\n",
    "show(input)\n",
    "print(f\"Prediction: {pred}\\nActual: {target}\\n\\nCorrect? {pred_correct}\")\n",
    "\n",
    "show(perturbed)\n",
    "print(f\"Perturbed: {perturbed_pred}\\nActual: {target}\\n\\nCorrect? {perturbed_correct}\")"
   ]
  }
 ],
 "metadata": {
  "kernelspec": {
   "display_name": "mnist",
   "language": "python",
   "name": "python3"
  },
  "language_info": {
   "codemirror_mode": {
    "name": "ipython",
    "version": 3
   },
   "file_extension": ".py",
   "mimetype": "text/x-python",
   "name": "python",
   "nbconvert_exporter": "python",
   "pygments_lexer": "ipython3",
   "version": "3.13.3"
  }
 },
 "nbformat": 4,
 "nbformat_minor": 5
}
